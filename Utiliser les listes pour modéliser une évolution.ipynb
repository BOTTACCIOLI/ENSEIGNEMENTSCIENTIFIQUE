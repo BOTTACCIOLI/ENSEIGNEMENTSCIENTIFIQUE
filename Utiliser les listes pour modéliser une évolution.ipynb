{
 "cells": [
  {
   "cell_type": "markdown",
   "metadata": {},
   "source": [
    "# TP informatique :     Utiliser les listes pour modéliser une évolution"
   ]
  },
  {
   "cell_type": "markdown",
   "metadata": {},
   "source": [
    "## 1. Rappels sur les manipulations sur les listes"
   ]
  },
  {
   "cell_type": "markdown",
   "metadata": {},
   "source": [
    "On considère la liste suivante :\n",
    "\n",
    "L=[1,2,4,7]\n",
    "\n",
    "Saisir cette liste ci-dessous puis utiliser l'instruction nécessaire pour faire afficher le premier terme de cette liste :"
   ]
  },
  {
   "cell_type": "code",
   "execution_count": null,
   "metadata": {},
   "outputs": [],
   "source": []
  },
  {
   "cell_type": "markdown",
   "metadata": {},
   "source": [
    "Utiliser l'instruction nécessaire pour faire afficher la longueur de cette liste :"
   ]
  },
  {
   "cell_type": "code",
   "execution_count": null,
   "metadata": {},
   "outputs": [],
   "source": []
  },
  {
   "cell_type": "markdown",
   "metadata": {},
   "source": [
    "Utiliser l'instruction nécessaire pour faire afficher le dernier terme de cette liste :"
   ]
  },
  {
   "cell_type": "code",
   "execution_count": null,
   "metadata": {},
   "outputs": [],
   "source": []
  },
  {
   "cell_type": "markdown",
   "metadata": {},
   "source": [
    "Le programme ci-dessous a pour but de calculer la somme de tous les termes de cette liste. \n",
    "\n",
    "Complétez-le :"
   ]
  },
  {
   "cell_type": "code",
   "execution_count": 17,
   "metadata": {},
   "outputs": [],
   "source": [
    "def somme(L):\n",
    "    n=len(L)\n",
    "    x=0\n",
    "    for k in range (0,n):\n",
    "        x=\n",
    "    print()"
   ]
  },
  {
   "cell_type": "markdown",
   "metadata": {},
   "source": [
    "Testez-le avec la liste donnée au début :"
   ]
  },
  {
   "cell_type": "code",
   "execution_count": null,
   "metadata": {},
   "outputs": [],
   "source": []
  },
  {
   "cell_type": "markdown",
   "metadata": {},
   "source": [
    "## 2. Application à un problème de modélisation"
   ]
  },
  {
   "cell_type": "markdown",
   "metadata": {},
   "source": [
    "Un médicament est injecté par voie intraveineuse. Dans les heures qui suivent, la substance est éliminée par les reins. La quantité présente dans le sang a été mesurée par des prises de sang toutes les deux heures et les résultats sont résumés dans le tableau présent sur la feuille de consignes. "
   ]
  },
  {
   "cell_type": "markdown",
   "metadata": {},
   "source": [
    "Calculer les coordonnées du moyen G de ce nuage de points et indiquer votre réponse ci-dessous :"
   ]
  },
  {
   "cell_type": "markdown",
   "metadata": {},
   "source": []
  },
  {
   "cell_type": "markdown",
   "metadata": {},
   "source": [
    "On cherche maintenant à automatiser le calcul des coordonnées du point moyen. \n",
    "\n",
    "Pour cela, on a écrit un programme ci-dessous, que vous devez compléter en faisant notamment apparaître une phrase réponse claire au moment de l'affichage :"
   ]
  },
  {
   "cell_type": "code",
   "execution_count": 4,
   "metadata": {},
   "outputs": [],
   "source": [
    "def coordomoyen(X,Y):\n",
    "    n=\n",
    "    x=\n",
    "    y=\n",
    "    for k in range(0,n):\n",
    "        x=\n",
    "        y=\n",
    "    print()"
   ]
  },
  {
   "cell_type": "markdown",
   "metadata": {},
   "source": [
    "Utiliser ce programme pour vérifier votre réponse obtenue précédemment :"
   ]
  },
  {
   "cell_type": "code",
   "execution_count": null,
   "metadata": {},
   "outputs": [],
   "source": []
  },
  {
   "cell_type": "markdown",
   "metadata": {},
   "source": [
    "On choisit comme droite d'ajustement affine, la droite qui va passer par les points A et G, où le point A a pour coordonnées (8;3).\n",
    "\n",
    "Déterminer, sur votre brouillon, l'équation de cette droite puis indiquer votre réponse ci-dessous :"
   ]
  },
  {
   "cell_type": "markdown",
   "metadata": {},
   "source": []
  },
  {
   "cell_type": "markdown",
   "metadata": {},
   "source": [
    "On cherche maintenant à automatiser le calcul des coefficients a et b dans une équation de droite. \n",
    "\n",
    "Pour cela, on a écrit un programme ci-dessous, que vous devez compléter :"
   ]
  },
  {
   "cell_type": "code",
   "execution_count": 6,
   "metadata": {},
   "outputs": [],
   "source": [
    "def   (xA,yA,xB,yB):\n",
    "    a=\n",
    "    b=\n",
    "    print()"
   ]
  },
  {
   "cell_type": "markdown",
   "metadata": {},
   "source": [
    "Utiliser ce programme pour vérifier votre réponse trouvée à la main précédemment :"
   ]
  },
  {
   "cell_type": "code",
   "execution_count": null,
   "metadata": {},
   "outputs": [],
   "source": []
  },
  {
   "cell_type": "markdown",
   "metadata": {},
   "source": [
    "En utilisant comme ajustement affine la droite d'équation $y=-0,74x+8,92$,  estimer la quantité de médicaments présente dans le sang au bout de 10 heures :"
   ]
  },
  {
   "cell_type": "code",
   "execution_count": null,
   "metadata": {},
   "outputs": [],
   "source": []
  },
  {
   "cell_type": "markdown",
   "metadata": {},
   "source": [
    "Une autre possibilité pour déterminer une droite d'ajustement affine d'un nuage de points est d'utiliser la méthode de Mayer. \n",
    "\n",
    "Cette méthode consiste à découper la série de données en deux sous-séries, ce qui permet de tenir compte de tous les points de la série. On calcule ensuite le point moyen de chaque sous-série avant de déterminer l'équation de la droite d'ajustement qui passe par ces deux points moyens.\n",
    "\n",
    "Ré-écrire ou ré-utiliser les programmes vus ci-dessus afin d'appliquer la méthode de Mayer à cet exemple."
   ]
  },
  {
   "cell_type": "code",
   "execution_count": null,
   "metadata": {},
   "outputs": [],
   "source": []
  },
  {
   "cell_type": "code",
   "execution_count": null,
   "metadata": {},
   "outputs": [],
   "source": []
  },
  {
   "cell_type": "code",
   "execution_count": null,
   "metadata": {},
   "outputs": [],
   "source": []
  },
  {
   "cell_type": "code",
   "execution_count": null,
   "metadata": {},
   "outputs": [],
   "source": []
  },
  {
   "cell_type": "code",
   "execution_count": null,
   "metadata": {},
   "outputs": [],
   "source": []
  },
  {
   "cell_type": "code",
   "execution_count": null,
   "metadata": {},
   "outputs": [],
   "source": []
  }
 ],
 "metadata": {
  "kernelspec": {
   "display_name": "Python 3",
   "language": "python",
   "name": "python3"
  },
  "language_info": {
   "codemirror_mode": {
    "name": "ipython",
    "version": 3
   },
   "file_extension": ".py",
   "mimetype": "text/x-python",
   "name": "python",
   "nbconvert_exporter": "python",
   "pygments_lexer": "ipython3",
   "version": "3.8.5"
  }
 },
 "nbformat": 4,
 "nbformat_minor": 4
}
