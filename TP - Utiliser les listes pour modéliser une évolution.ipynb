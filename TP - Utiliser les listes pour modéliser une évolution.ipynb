{
 "cells": [
  {
   "cell_type": "markdown",
   "metadata": {},
   "source": [
    "# TP informatique :     Utiliser les listes pour modéliser une évolution"
   ]
  },
  {
   "cell_type": "markdown",
   "metadata": {},
   "source": [
    "##  Rappels : manipulations sur les listes"
   ]
  },
  {
   "cell_type": "markdown",
   "metadata": {},
   "source": [
    "On considère la liste suivante :\n",
    "\n",
    "L=[1,2,4,7]\n",
    "\n",
    "Saisir cette liste ci-dessous puis utiliser l'instruction nécessaire pour faire afficher le premier terme de cette liste :"
   ]
  },
  {
   "cell_type": "code",
   "execution_count": null,
   "metadata": {},
   "outputs": [],
   "source": []
  },
  {
   "cell_type": "markdown",
   "metadata": {},
   "source": [
    "Utiliser l'instruction nécessaire pour faire afficher la longueur de cette liste :"
   ]
  },
  {
   "cell_type": "code",
   "execution_count": null,
   "metadata": {},
   "outputs": [],
   "source": []
  },
  {
   "cell_type": "markdown",
   "metadata": {},
   "source": [
    "Utiliser l'instruction nécessaire pour faire afficher le dernier terme de cette liste :"
   ]
  },
  {
   "cell_type": "code",
   "execution_count": null,
   "metadata": {},
   "outputs": [],
   "source": []
  },
  {
   "cell_type": "markdown",
   "metadata": {},
   "source": [
    "Le programme ci-dessous a pour but de calculer la somme de tous les termes de cette liste. \n",
    "\n",
    "Complétez-le :"
   ]
  },
  {
   "cell_type": "code",
   "execution_count": 17,
   "metadata": {},
   "outputs": [],
   "source": [
    "def somme(L):\n",
    "    n=len(L)\n",
    "    x=0\n",
    "    for k in range (0,n):\n",
    "        x=\n",
    "    print()"
   ]
  },
  {
   "cell_type": "markdown",
   "metadata": {},
   "source": [
    "Testez-le avec la liste donnée au début :"
   ]
  },
  {
   "cell_type": "code",
   "execution_count": null,
   "metadata": {},
   "outputs": [],
   "source": []
  },
  {
   "cell_type": "markdown",
   "metadata": {},
   "source": [
    "## Exemple 1 : Modéliser une évolution"
   ]
  },
  {
   "cell_type": "markdown",
   "metadata": {},
   "source": [
    "Un médicament est injecté par voie intraveineuse. Dans les heures qui suivent, la substance est éliminée par les reins. La quantité présente dans le sang a été mesurée par des prises de sang toutes les deux heures et les résultats sont résumés dans le tableau présent sur la feuille de consignes. "
   ]
  },
  {
   "cell_type": "markdown",
   "metadata": {},
   "source": [
    "On commence par calculer les coordonnées du point moyen. \n",
    "\n",
    "Pour cela, on a écrit un programme ci-dessous, que vous devez compléter en faisant notamment apparaître une phrase réponse claire au moment de l'affichage :"
   ]
  },
  {
   "cell_type": "code",
   "execution_count": 4,
   "metadata": {},
   "outputs": [],
   "source": [
    "def coordomoyen(X,Y):\n",
    "    n=\n",
    "    x=\n",
    "    y=\n",
    "    for k in range(0,n):\n",
    "        x=\n",
    "        y=\n",
    "    print()"
   ]
  },
  {
   "cell_type": "markdown",
   "metadata": {},
   "source": [
    "Utiliser ce programme dans le contexte de l'exercice :"
   ]
  },
  {
   "cell_type": "code",
   "execution_count": null,
   "metadata": {},
   "outputs": [],
   "source": []
  },
  {
   "cell_type": "markdown",
   "metadata": {},
   "source": [
    "On choisit comme droite d'ajustement affine, la droite qui va passer par les points A et G, où le point A a pour coordonnées (8;3)."
   ]
  },
  {
   "cell_type": "markdown",
   "metadata": {},
   "source": [
    "On cherche maintenant à automatiser le calcul des coefficients a et b dans une équation de droite. \n",
    "\n",
    "Pour cela, on a écrit un programme ci-dessous, que vous devez compléter :"
   ]
  },
  {
   "cell_type": "code",
   "execution_count": 6,
   "metadata": {},
   "outputs": [],
   "source": [
    "def   (xA,yA,xB,yB):\n",
    "    a=\n",
    "    b=\n",
    "    print()"
   ]
  },
  {
   "cell_type": "markdown",
   "metadata": {},
   "source": [
    "Utiliser ce programme dans le contexte de cet exercice :"
   ]
  },
  {
   "cell_type": "code",
   "execution_count": null,
   "metadata": {},
   "outputs": [],
   "source": []
  },
  {
   "cell_type": "markdown",
   "metadata": {},
   "source": [
    "En utilisant comme ajustement affine la droite d'équation $y=-0,74x+8,92$,  estimer la quantité de médicaments présente dans le sang au bout de 10 heures :"
   ]
  },
  {
   "cell_type": "code",
   "execution_count": null,
   "metadata": {},
   "outputs": [],
   "source": []
  },
  {
   "cell_type": "markdown",
   "metadata": {},
   "source": [
    "##  Exemple 2 : Faire un changement de variable avant de modéliser une évolution"
   ]
  },
  {
   "cell_type": "markdown",
   "metadata": {},
   "source": [
    "Le tableau donné sur la feuille de consignes indique le nombre n estimé de personnes nouvellement contaminées par une épidémie pendant six semaines consécutives, de mi-février à début avril. \n",
    "\n",
    "Si on plaçait le nuage de points correspondant, on s'apercevrait que les points ne sont pas du tout alignés et qu'un ajustement affine n'est donc pas possible. On effectue alors un changement de variable pour s'y ramener en posant $y_i=log(n_i)$"
   ]
  },
  {
   "cell_type": "markdown",
   "metadata": {},
   "source": [
    "Compléter le programme ci-dessous, qui prend en entrée une liste et qui rend en sortie une autre liste dans laquelle on a transformé chaque terme de la liste de départ grâce au changement de variable :"
   ]
  },
  {
   "cell_type": "code",
   "execution_count": 14,
   "metadata": {},
   "outputs": [],
   "source": [
    "def changement(L):\n",
    "    n=\n",
    "    for k in range (0,n):\n",
    "        L[k]=\n",
    "    "
   ]
  },
  {
   "cell_type": "markdown",
   "metadata": {},
   "source": [
    "Utiliser ce programme pour appliquer le changement de variable aux données de l'énoncé :"
   ]
  },
  {
   "cell_type": "code",
   "execution_count": null,
   "metadata": {},
   "outputs": [],
   "source": []
  },
  {
   "cell_type": "markdown",
   "metadata": {},
   "source": [
    "On cherche maintenant à améliorer cet algorithme en donnant un arrondi au centième de toutes les valeurs $y_i$. Pour cela, on va utiliser la commande $round(..,..)$ où il faut mettre dans les parenthèses la quantité que l'on veut arrondir, puis le nombre de décimales souhaitées (séparées par une virgule). \n",
    "\n",
    "Modifier l'algorithme précédent en y insérant cette commande. "
   ]
  },
  {
   "cell_type": "markdown",
   "metadata": {},
   "source": [
    "En vous inspirant de ce qui a été fait plus tôt dans le TP, déterminer, à l'aide d'un algorithme, les coordonnées du point moyen G du nuage de points $N_i(x_i;y_i)$"
   ]
  },
  {
   "cell_type": "code",
   "execution_count": null,
   "metadata": {},
   "outputs": [],
   "source": []
  },
  {
   "cell_type": "markdown",
   "metadata": {},
   "source": [
    "On choisit de prendre comme ajustement affine la droite passant par le point G et le point $N(13;7,92)$.\n",
    "\n",
    "Déterminer, à l'aide d'un algorithme, l'équation de cette droite. "
   ]
  },
  {
   "cell_type": "code",
   "execution_count": null,
   "metadata": {},
   "outputs": [],
   "source": []
  },
  {
   "cell_type": "markdown",
   "metadata": {},
   "source": [
    "En utilisant cette équation, évaluer le nombre de personnes nouvellement contaminées la semaine numéro 15 si la tendance observée se prolonge. Arrondir à la dizaine. "
   ]
  },
  {
   "cell_type": "code",
   "execution_count": null,
   "metadata": {},
   "outputs": [],
   "source": []
  }
 ],
 "metadata": {
  "kernelspec": {
   "display_name": "Python 3",
   "language": "python",
   "name": "python3"
  },
  "language_info": {
   "codemirror_mode": {
    "name": "ipython",
    "version": 3
   },
   "file_extension": ".py",
   "mimetype": "text/x-python",
   "name": "python",
   "nbconvert_exporter": "python",
   "pygments_lexer": "ipython3",
   "version": "3.8.5"
  }
 },
 "nbformat": 4,
 "nbformat_minor": 4
}
